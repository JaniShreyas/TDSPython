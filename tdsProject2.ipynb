{
 "cells": [
  {
   "cell_type": "code",
   "execution_count": 46,
   "metadata": {},
   "outputs": [],
   "source": [
    "import pandas as pd\n",
    "import numpy as np\n",
    "from textblob import TextBlob"
   ]
  },
  {
   "cell_type": "code",
   "execution_count": 47,
   "metadata": {},
   "outputs": [],
   "source": [
    "books = pd.read_csv('data/books.csv')\n",
    "ratings = pd.read_csv('data/ratings.csv')\n",
    "toRead = pd.read_csv('data/toread.csv')\n",
    "bookTags = pd.read_csv('data/book_tags.csv')"
   ]
  },
  {
   "cell_type": "code",
   "execution_count": 48,
   "metadata": {},
   "outputs": [
    {
     "name": "stdout",
     "output_type": "stream",
     "text": [
      "   goodreads_book_id  tag_id  count\n",
      "0                 24   31155   2312\n",
      "1                 24   21689   1971\n"
     ]
    },
    {
     "data": {
      "text/html": [
       "<div>\n",
       "<style scoped>\n",
       "    .dataframe tbody tr th:only-of-type {\n",
       "        vertical-align: middle;\n",
       "    }\n",
       "\n",
       "    .dataframe tbody tr th {\n",
       "        vertical-align: top;\n",
       "    }\n",
       "\n",
       "    .dataframe thead th {\n",
       "        text-align: right;\n",
       "    }\n",
       "</style>\n",
       "<table border=\"1\" class=\"dataframe\">\n",
       "  <thead>\n",
       "    <tr style=\"text-align: right;\">\n",
       "      <th></th>\n",
       "      <th>book_id</th>\n",
       "      <th>goodreads_book_id</th>\n",
       "      <th>best_book_id</th>\n",
       "      <th>work_id</th>\n",
       "      <th>books_count</th>\n",
       "      <th>isbn</th>\n",
       "      <th>isbn13</th>\n",
       "      <th>authors</th>\n",
       "      <th>original_publication_year</th>\n",
       "      <th>original_title</th>\n",
       "      <th>...</th>\n",
       "      <th>ratings_count</th>\n",
       "      <th>work_ratings_count</th>\n",
       "      <th>work_text_reviews_count</th>\n",
       "      <th>ratings_1</th>\n",
       "      <th>ratings_2</th>\n",
       "      <th>ratings_3</th>\n",
       "      <th>ratings_4</th>\n",
       "      <th>ratings_5</th>\n",
       "      <th>image_url</th>\n",
       "      <th>small_image_url</th>\n",
       "    </tr>\n",
       "  </thead>\n",
       "  <tbody>\n",
       "    <tr>\n",
       "      <th>0</th>\n",
       "      <td>72</td>\n",
       "      <td>11588</td>\n",
       "      <td>11588</td>\n",
       "      <td>849585</td>\n",
       "      <td>289</td>\n",
       "      <td>450040186</td>\n",
       "      <td>9.780450e+12</td>\n",
       "      <td>Stephen King</td>\n",
       "      <td>1977.0</td>\n",
       "      <td>The Shining</td>\n",
       "      <td>...</td>\n",
       "      <td>791850</td>\n",
       "      <td>830881</td>\n",
       "      <td>14936</td>\n",
       "      <td>18487</td>\n",
       "      <td>28981</td>\n",
       "      <td>123862</td>\n",
       "      <td>277393</td>\n",
       "      <td>382158</td>\n",
       "      <td>https://images.gr-assets.com/books/1353277730m...</td>\n",
       "      <td>https://images.gr-assets.com/books/1353277730s...</td>\n",
       "    </tr>\n",
       "  </tbody>\n",
       "</table>\n",
       "<p>1 rows × 23 columns</p>\n",
       "</div>"
      ],
      "text/plain": [
       "   book_id  goodreads_book_id  best_book_id  work_id  books_count       isbn  \\\n",
       "0       72              11588         11588   849585          289  450040186   \n",
       "\n",
       "         isbn13       authors  original_publication_year original_title  ...  \\\n",
       "0  9.780450e+12  Stephen King                     1977.0    The Shining  ...   \n",
       "\n",
       "  ratings_count work_ratings_count  work_text_reviews_count  ratings_1  \\\n",
       "0        791850             830881                    14936      18487   \n",
       "\n",
       "   ratings_2  ratings_3  ratings_4  ratings_5  \\\n",
       "0      28981     123862     277393     382158   \n",
       "\n",
       "                                           image_url  \\\n",
       "0  https://images.gr-assets.com/books/1353277730m...   \n",
       "\n",
       "                                     small_image_url  \n",
       "0  https://images.gr-assets.com/books/1353277730s...  \n",
       "\n",
       "[1 rows x 23 columns]"
      ]
     },
     "execution_count": 48,
     "metadata": {},
     "output_type": "execute_result"
    }
   ],
   "source": [
    "print(bookTags.head(2))\n",
    "books.head(1)\n"
   ]
  },
  {
   "cell_type": "code",
   "execution_count": 49,
   "metadata": {},
   "outputs": [
    {
     "data": {
      "text/html": [
       "<div>\n",
       "<style scoped>\n",
       "    .dataframe tbody tr th:only-of-type {\n",
       "        vertical-align: middle;\n",
       "    }\n",
       "\n",
       "    .dataframe tbody tr th {\n",
       "        vertical-align: top;\n",
       "    }\n",
       "\n",
       "    .dataframe thead th {\n",
       "        text-align: right;\n",
       "    }\n",
       "</style>\n",
       "<table border=\"1\" class=\"dataframe\">\n",
       "  <thead>\n",
       "    <tr style=\"text-align: right;\">\n",
       "      <th></th>\n",
       "      <th>book_id</th>\n",
       "      <th>goodreads_book_id</th>\n",
       "      <th>best_book_id</th>\n",
       "      <th>work_id</th>\n",
       "      <th>books_count</th>\n",
       "      <th>isbn</th>\n",
       "      <th>isbn13</th>\n",
       "      <th>authors</th>\n",
       "      <th>original_publication_year</th>\n",
       "      <th>original_title</th>\n",
       "      <th>...</th>\n",
       "      <th>work_text_reviews_count</th>\n",
       "      <th>ratings_1</th>\n",
       "      <th>ratings_2</th>\n",
       "      <th>ratings_3</th>\n",
       "      <th>ratings_4</th>\n",
       "      <th>ratings_5</th>\n",
       "      <th>image_url</th>\n",
       "      <th>small_image_url</th>\n",
       "      <th>tag_id</th>\n",
       "      <th>count</th>\n",
       "    </tr>\n",
       "  </thead>\n",
       "  <tbody>\n",
       "    <tr>\n",
       "      <th>0</th>\n",
       "      <td>72</td>\n",
       "      <td>11588</td>\n",
       "      <td>11588</td>\n",
       "      <td>849585</td>\n",
       "      <td>289</td>\n",
       "      <td>450040186</td>\n",
       "      <td>9.780450e+12</td>\n",
       "      <td>Stephen King</td>\n",
       "      <td>1977.0</td>\n",
       "      <td>The Shining</td>\n",
       "      <td>...</td>\n",
       "      <td>14936</td>\n",
       "      <td>18487</td>\n",
       "      <td>28981</td>\n",
       "      <td>123862</td>\n",
       "      <td>277393</td>\n",
       "      <td>382158</td>\n",
       "      <td>https://images.gr-assets.com/books/1353277730m...</td>\n",
       "      <td>https://images.gr-assets.com/books/1353277730s...</td>\n",
       "      <td>11743</td>\n",
       "      <td>3989</td>\n",
       "    </tr>\n",
       "    <tr>\n",
       "      <th>1</th>\n",
       "      <td>72</td>\n",
       "      <td>11588</td>\n",
       "      <td>11588</td>\n",
       "      <td>849585</td>\n",
       "      <td>289</td>\n",
       "      <td>450040186</td>\n",
       "      <td>9.780450e+12</td>\n",
       "      <td>Stephen King</td>\n",
       "      <td>1977.0</td>\n",
       "      <td>The Shining</td>\n",
       "      <td>...</td>\n",
       "      <td>14936</td>\n",
       "      <td>18487</td>\n",
       "      <td>28981</td>\n",
       "      <td>123862</td>\n",
       "      <td>277393</td>\n",
       "      <td>382158</td>\n",
       "      <td>https://images.gr-assets.com/books/1353277730m...</td>\n",
       "      <td>https://images.gr-assets.com/books/1353277730s...</td>\n",
       "      <td>22743</td>\n",
       "      <td>1028</td>\n",
       "    </tr>\n",
       "  </tbody>\n",
       "</table>\n",
       "<p>2 rows × 25 columns</p>\n",
       "</div>"
      ],
      "text/plain": [
       "   book_id  goodreads_book_id  best_book_id  work_id  books_count       isbn  \\\n",
       "0       72              11588         11588   849585          289  450040186   \n",
       "1       72              11588         11588   849585          289  450040186   \n",
       "\n",
       "         isbn13       authors  original_publication_year original_title  ...  \\\n",
       "0  9.780450e+12  Stephen King                     1977.0    The Shining  ...   \n",
       "1  9.780450e+12  Stephen King                     1977.0    The Shining  ...   \n",
       "\n",
       "  work_text_reviews_count ratings_1  ratings_2  ratings_3  ratings_4  \\\n",
       "0                   14936     18487      28981     123862     277393   \n",
       "1                   14936     18487      28981     123862     277393   \n",
       "\n",
       "   ratings_5                                          image_url  \\\n",
       "0     382158  https://images.gr-assets.com/books/1353277730m...   \n",
       "1     382158  https://images.gr-assets.com/books/1353277730m...   \n",
       "\n",
       "                                     small_image_url  tag_id  count  \n",
       "0  https://images.gr-assets.com/books/1353277730s...   11743   3989  \n",
       "1  https://images.gr-assets.com/books/1353277730s...   22743   1028  \n",
       "\n",
       "[2 rows x 25 columns]"
      ]
     },
     "execution_count": 49,
     "metadata": {},
     "output_type": "execute_result"
    }
   ],
   "source": [
    "newDataframe = pd.merge(books, bookTags, on=\"goodreads_book_id\", how = \"inner\")\n",
    "newDataframe.head(2)"
   ]
  },
  {
   "cell_type": "code",
   "execution_count": 50,
   "metadata": {},
   "outputs": [
    {
     "name": "stdout",
     "output_type": "stream",
     "text": [
      "(182400, 25) (1824, 23) (182400, 3)\n"
     ]
    },
    {
     "data": {
      "text/plain": [
       "book_id\n",
       "72      100\n",
       "6795    100\n",
       "6779    100\n",
       "6774    100\n",
       "6766    100\n",
       "       ... \n",
       "3654    100\n",
       "3640    100\n",
       "3622    100\n",
       "3621    100\n",
       "9996    100\n",
       "Name: count, Length: 1824, dtype: int64"
      ]
     },
     "execution_count": 50,
     "metadata": {},
     "output_type": "execute_result"
    }
   ],
   "source": [
    "print(newDataframe.shape, books.shape, bookTags.shape)\n",
    "newDataframe['book_id'].value_counts()"
   ]
  },
  {
   "cell_type": "code",
   "execution_count": 51,
   "metadata": {},
   "outputs": [
    {
     "name": "stdout",
     "output_type": "stream",
     "text": [
      "original_title    Persuasion\n",
      "count                 282231\n",
      "Name: 855, dtype: object\n"
     ]
    }
   ],
   "source": [
    "sum_count_per_book_id = newDataframe.groupby('original_title')['count'].sum().reset_index()\n",
    "max_count_book_id = sum_count_per_book_id.loc[sum_count_per_book_id['count'].idxmax()]\n",
    "print(max_count_book_id)"
   ]
  },
  {
   "cell_type": "code",
   "execution_count": 52,
   "metadata": {},
   "outputs": [
    {
     "name": "stdout",
     "output_type": "stream",
     "text": [
      "9054\n"
     ]
    }
   ],
   "source": [
    "unique_tags = bookTags['tag_id'].unique()\n",
    "print(len(unique_tags))\n"
   ]
  },
  {
   "cell_type": "code",
   "execution_count": 53,
   "metadata": {},
   "outputs": [
    {
     "name": "stdout",
     "output_type": "stream",
     "text": [
      "tag_id     11503\n",
      "book_id     1824\n",
      "Name: 3213, dtype: int64\n"
     ]
    }
   ],
   "source": [
    "# which tag_id is mapped with the highest number of books in newDataFrame\n",
    "\n",
    "tag_id_count = newDataframe.groupby('tag_id')['book_id'].count().reset_index()\n",
    "#Get the the tag_ids with the highest number of books\n",
    "max_tag_id = tag_id_count.loc[tag_id_count['book_id'].idxmax()]\n",
    "print(max_tag_id)"
   ]
  },
  {
   "cell_type": "code",
   "execution_count": 54,
   "metadata": {},
   "outputs": [
    {
     "data": {
      "text/plain": [
       "52336"
      ]
     },
     "execution_count": 54,
     "metadata": {},
     "output_type": "execute_result"
    }
   ],
   "source": [
    "ratings.head(2)\n",
    "len(ratings['user_id'].unique())"
   ]
  },
  {
   "cell_type": "code",
   "execution_count": 55,
   "metadata": {},
   "outputs": [
    {
     "name": "stdout",
     "output_type": "stream",
     "text": [
      "1824\n"
     ]
    }
   ],
   "source": [
    "print(len(books['book_id'].unique()))"
   ]
  },
  {
   "cell_type": "code",
   "execution_count": 56,
   "metadata": {},
   "outputs": [
    {
     "data": {
      "text/plain": [
       "125"
      ]
     },
     "execution_count": 56,
     "metadata": {},
     "output_type": "execute_result"
    }
   ],
   "source": [
    "# which books have \"original_title\" as Null\n",
    "len(books[books['original_title'].isnull()])"
   ]
  },
  {
   "cell_type": "code",
   "execution_count": 57,
   "metadata": {},
   "outputs": [
    {
     "name": "stdout",
     "output_type": "stream",
     "text": [
      "tag_id     18\n",
      "book_id     1\n",
      "Name: 0, dtype: int64\n"
     ]
    }
   ],
   "source": [
    "min_tag_id = tag_id_count.loc[tag_id_count['book_id'].idxmin()]\n",
    "print(min_tag_id)"
   ]
  },
  {
   "cell_type": "code",
   "execution_count": 58,
   "metadata": {},
   "outputs": [
    {
     "name": "stdout",
     "output_type": "stream",
     "text": [
      "goodreads_book_id    31098\n",
      "count                  677\n",
      "Name: 386, dtype: int64\n"
     ]
    }
   ],
   "source": [
    "sum_count_per_book_id = bookTags.groupby('goodreads_book_id')['count'].sum().reset_index()\n",
    "print(sum_count_per_book_id.loc[sum_count_per_book_id['count'].idxmin()])"
   ]
  },
  {
   "cell_type": "code",
   "execution_count": 59,
   "metadata": {},
   "outputs": [
    {
     "name": "stdout",
     "output_type": "stream",
     "text": [
      "original_title        The Shining\n",
      "work_ratings_count         830881\n",
      "Name: 1450, dtype: object\n"
     ]
    }
   ],
   "source": [
    "books[\"work_ratings_count\"]\n",
    "title_to_ratings_count = books.groupby('original_title')['work_ratings_count'].sum().reset_index()\n",
    "print(title_to_ratings_count.loc[title_to_ratings_count['work_ratings_count'].idxmax()])"
   ]
  },
  {
   "cell_type": "code",
   "execution_count": 64,
   "metadata": {},
   "outputs": [
    {
     "name": "stdout",
     "output_type": "stream",
     "text": [
      "1507\n"
     ]
    }
   ],
   "source": [
    "# how many positive titles in books using textblob\n",
    "positive_titles = []\n",
    "for title in books[\"original_title\"].dropna():\n",
    "    blob = TextBlob(title)\n",
    "    if blob.sentiment.polarity >= 0:\n",
    "        if title not in positive_titles:\n",
    "            positive_titles.append(title)\n",
    "print(len(positive_titles))"
   ]
  }
 ],
 "metadata": {
  "kernelspec": {
   "display_name": "nb",
   "language": "python",
   "name": "python3"
  },
  "language_info": {
   "codemirror_mode": {
    "name": "ipython",
    "version": 3
   },
   "file_extension": ".py",
   "mimetype": "text/x-python",
   "name": "python",
   "nbconvert_exporter": "python",
   "pygments_lexer": "ipython3",
   "version": "3.11.5"
  }
 },
 "nbformat": 4,
 "nbformat_minor": 2
}
